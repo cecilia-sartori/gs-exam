{
 "cells": [
  {
   "cell_type": "markdown",
   "id": "36486808",
   "metadata": {},
   "source": [
    "**!!!**\n",
    "This notebook is meant to be run only if you decide to clone the repo and run the code locally."
   ]
  },
  {
   "cell_type": "markdown",
   "id": "eef100b8",
   "metadata": {},
   "source": [
    "# AGEB"
   ]
  },
  {
   "cell_type": "code",
   "execution_count": null,
   "id": "ef807c0f",
   "metadata": {},
   "outputs": [],
   "source": [
    "!wget -P data/ http://www.conabio.gob.mx/informacion/gis/maps/ccl/agbumge19gw_c.zip\n",
    "!unzip data/agbumge19gw_c.zip -d data/ageb"
   ]
  },
  {
   "cell_type": "markdown",
   "id": "ed826d85",
   "metadata": {},
   "source": [
    "# Neighbourhood"
   ]
  },
  {
   "cell_type": "code",
   "execution_count": null,
   "id": "5bca5bf0",
   "metadata": {},
   "outputs": [],
   "source": [
    "!wget -P data/ https://datos.cdmx.gob.mx/dataset/bae265a8-d1f6-4614-b399-4184bc93e027/resource/8648431b-4f34-4f1a-a4b1-19142f944300/download/alcaldias_cdmx.zip\n",
    "!unzip data/alcaldias_cdmx.zip -d data/"
   ]
  },
  {
   "cell_type": "markdown",
   "id": "85f9177d",
   "metadata": {},
   "source": [
    "# Help Centres"
   ]
  },
  {
   "cell_type": "code",
   "execution_count": null,
   "id": "2b85dc31",
   "metadata": {},
   "outputs": [],
   "source": [
    "!wget -P data/ https://datos.cdmx.gob.mx/dataset/ce4a29b8-a079-442a-957c-41ff58055c14/resource/6f553628-ab08-43fe-87a3-810b41464850/download/servicios_de_atencion_a_violencia_contra_las_mujeres.zip\n",
    "!unzip data/servicios_de_atencion_a_violencia_contra_las_mujeres.zip -d data/"
   ]
  },
  {
   "cell_type": "markdown",
   "id": "a3321296",
   "metadata": {},
   "source": [
    "# Population per Neighbourhood"
   ]
  },
  {
   "cell_type": "code",
   "execution_count": null,
   "id": "33480dff",
   "metadata": {},
   "outputs": [],
   "source": [
    "!wget -P data/ https://datos.cdmx.gob.mx/dataset/91ae7d55-af8f-410b-b93f-a819d2e8e95c/resource/15eed518-ee91-4ef4-ab18-ef83d831dcdd/download/poblacion_total_tasa_crecimiento_1.1.csv"
   ]
  },
  {
   "cell_type": "markdown",
   "id": "a8e1fffd",
   "metadata": {},
   "source": [
    "# VAW DATA"
   ]
  },
  {
   "cell_type": "code",
   "execution_count": null,
   "id": "71b549f7",
   "metadata": {},
   "outputs": [],
   "source": [
    "!wget -P data/ https://archivo.datos.cdmx.gob.mx/fiscalia-general-de-justicia/victimas-en-carpetas-de-investigacion-fgj/victimas_completa_marzo_2022.csv"
   ]
  }
 ],
 "metadata": {
  "kernelspec": {
   "display_name": "Python 3 (ipykernel)",
   "language": "python",
   "name": "python3"
  },
  "language_info": {
   "codemirror_mode": {
    "name": "ipython",
    "version": 3
   },
   "file_extension": ".py",
   "mimetype": "text/x-python",
   "name": "python",
   "nbconvert_exporter": "python",
   "pygments_lexer": "ipython3",
   "version": "3.9.5"
  },
  "toc": {
   "base_numbering": 1,
   "nav_menu": {},
   "number_sections": true,
   "sideBar": true,
   "skip_h1_title": false,
   "title_cell": "Table of Contents",
   "title_sidebar": "Contents",
   "toc_cell": false,
   "toc_position": {},
   "toc_section_display": true,
   "toc_window_display": false
  }
 },
 "nbformat": 4,
 "nbformat_minor": 5
}
