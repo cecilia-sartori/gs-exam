{
 "cells": [
  {
   "cell_type": "markdown",
   "id": "36028d36",
   "metadata": {},
   "source": [
    "# Data pre-processing\n"
   ]
  },
  {
   "cell_type": "markdown",
   "id": "41ad06ce",
   "metadata": {},
   "source": [
    "# Census Data\n",
    "\n",
    "Data cover the entire Mexico City, but have a sub-unit (Manzana) that we do not consider. After importing, select AGEB, replace special character `*` with Nan values, select non-string objects and convert them into float data type. Save file."
   ]
  },
  {
   "cell_type": "code",
   "execution_count": 1,
   "id": "84b92dff",
   "metadata": {},
   "outputs": [],
   "source": [
    "import pandas as pd\n",
    "import numpy as np"
   ]
  },
  {
   "cell_type": "markdown",
   "id": "74f0cf41",
   "metadata": {},
   "source": [
    "INEGI portal, inegi.org.mx, has been down for a while. Use the local version."
   ]
  },
  {
   "cell_type": "code",
   "execution_count": 2,
   "id": "9e27ce3f",
   "metadata": {},
   "outputs": [
    {
     "data": {
      "text/html": [
       "<div>\n",
       "<style scoped>\n",
       "    .dataframe tbody tr th:only-of-type {\n",
       "        vertical-align: middle;\n",
       "    }\n",
       "\n",
       "    .dataframe tbody tr th {\n",
       "        vertical-align: top;\n",
       "    }\n",
       "\n",
       "    .dataframe thead th {\n",
       "        text-align: right;\n",
       "    }\n",
       "</style>\n",
       "<table border=\"1\" class=\"dataframe\">\n",
       "  <thead>\n",
       "    <tr style=\"text-align: right;\">\n",
       "      <th></th>\n",
       "      <th>CVEGEO</th>\n",
       "      <th>ENTIDAD</th>\n",
       "      <th>NOM_ENT</th>\n",
       "      <th>MUN</th>\n",
       "      <th>NOM_MUN</th>\n",
       "      <th>LOC</th>\n",
       "      <th>NOM_LOC</th>\n",
       "      <th>AGEB</th>\n",
       "      <th>MZA</th>\n",
       "      <th>POBTOT</th>\n",
       "      <th>...</th>\n",
       "      <th>VPH_TELEF</th>\n",
       "      <th>VPH_CEL</th>\n",
       "      <th>VPH_INTER</th>\n",
       "      <th>VPH_STVP</th>\n",
       "      <th>VPH_SPMVPI</th>\n",
       "      <th>VPH_CVJ</th>\n",
       "      <th>VPH_SINRTV</th>\n",
       "      <th>VPH_SINLTC</th>\n",
       "      <th>VPH_SINCINT</th>\n",
       "      <th>VPH_SINTIC</th>\n",
       "    </tr>\n",
       "  </thead>\n",
       "  <tbody>\n",
       "    <tr>\n",
       "      <th>0</th>\n",
       "      <td>0900000000000</td>\n",
       "      <td>9</td>\n",
       "      <td>Ciudad de México</td>\n",
       "      <td>0</td>\n",
       "      <td>Total de la entidad Ciudad de México</td>\n",
       "      <td>0</td>\n",
       "      <td>Total de la entidad</td>\n",
       "      <td>0000</td>\n",
       "      <td>0</td>\n",
       "      <td>9209944</td>\n",
       "      <td>...</td>\n",
       "      <td>1898265</td>\n",
       "      <td>2536523</td>\n",
       "      <td>2084156</td>\n",
       "      <td>1290811</td>\n",
       "      <td>957162</td>\n",
       "      <td>568827</td>\n",
       "      <td>46172</td>\n",
       "      <td>77272</td>\n",
       "      <td>561128</td>\n",
       "      <td>10528</td>\n",
       "    </tr>\n",
       "    <tr>\n",
       "      <th>1</th>\n",
       "      <td>0900200000000</td>\n",
       "      <td>9</td>\n",
       "      <td>Ciudad de México</td>\n",
       "      <td>2</td>\n",
       "      <td>Azcapotzalco</td>\n",
       "      <td>0</td>\n",
       "      <td>Total del municipio</td>\n",
       "      <td>0000</td>\n",
       "      <td>0</td>\n",
       "      <td>432205</td>\n",
       "      <td>...</td>\n",
       "      <td>96128</td>\n",
       "      <td>123961</td>\n",
       "      <td>105899</td>\n",
       "      <td>66399</td>\n",
       "      <td>50965</td>\n",
       "      <td>31801</td>\n",
       "      <td>1661</td>\n",
       "      <td>2869</td>\n",
       "      <td>22687</td>\n",
       "      <td>322</td>\n",
       "    </tr>\n",
       "    <tr>\n",
       "      <th>2</th>\n",
       "      <td>0900200010000</td>\n",
       "      <td>9</td>\n",
       "      <td>Ciudad de México</td>\n",
       "      <td>2</td>\n",
       "      <td>Azcapotzalco</td>\n",
       "      <td>1</td>\n",
       "      <td>Total de la localidad urbana</td>\n",
       "      <td>0000</td>\n",
       "      <td>0</td>\n",
       "      <td>432205</td>\n",
       "      <td>...</td>\n",
       "      <td>96128</td>\n",
       "      <td>123961</td>\n",
       "      <td>105899</td>\n",
       "      <td>66399</td>\n",
       "      <td>50965</td>\n",
       "      <td>31801</td>\n",
       "      <td>1661</td>\n",
       "      <td>2869</td>\n",
       "      <td>22687</td>\n",
       "      <td>322</td>\n",
       "    </tr>\n",
       "  </tbody>\n",
       "</table>\n",
       "<p>3 rows × 231 columns</p>\n",
       "</div>"
      ],
      "text/plain": [
       "          CVEGEO  ENTIDAD           NOM_ENT  MUN  \\\n",
       "0  0900000000000        9  Ciudad de México    0   \n",
       "1  0900200000000        9  Ciudad de México    2   \n",
       "2  0900200010000        9  Ciudad de México    2   \n",
       "\n",
       "                                NOM_MUN  LOC                       NOM_LOC  \\\n",
       "0  Total de la entidad Ciudad de México    0           Total de la entidad   \n",
       "1                          Azcapotzalco    0           Total del municipio   \n",
       "2                          Azcapotzalco    1  Total de la localidad urbana   \n",
       "\n",
       "   AGEB  MZA   POBTOT  ... VPH_TELEF  VPH_CEL VPH_INTER VPH_STVP VPH_SPMVPI  \\\n",
       "0  0000    0  9209944  ...   1898265  2536523   2084156  1290811     957162   \n",
       "1  0000    0   432205  ...     96128   123961    105899    66399      50965   \n",
       "2  0000    0   432205  ...     96128   123961    105899    66399      50965   \n",
       "\n",
       "  VPH_CVJ VPH_SINRTV VPH_SINLTC VPH_SINCINT VPH_SINTIC  \n",
       "0  568827      46172      77272      561128      10528  \n",
       "1   31801       1661       2869       22687        322  \n",
       "2   31801       1661       2869       22687        322  \n",
       "\n",
       "[3 rows x 231 columns]"
      ]
     },
     "execution_count": 2,
     "metadata": {},
     "output_type": "execute_result"
    }
   ],
   "source": [
    "df = pd.read_csv('data/RESAGEBURB_09XLSX20.csv')\n",
    "df.head(3)"
   ]
  },
  {
   "cell_type": "code",
   "execution_count": 3,
   "id": "f392d7eb",
   "metadata": {},
   "outputs": [
    {
     "name": "stdout",
     "output_type": "stream",
     "text": [
      "<class 'pandas.core.frame.DataFrame'>\n",
      "Int64Index: 2433 entries, 3 to 68915\n",
      "Columns: 231 entries, CVEGEO to VPH_SINTIC\n",
      "dtypes: int64(6), object(225)\n",
      "memory usage: 4.3+ MB\n"
     ]
    }
   ],
   "source": [
    "df = df[df['NOM_LOC']=='Total AGEB urbana']\n",
    "df = df.replace('*', np.nan)\n",
    "df.info()"
   ]
  },
  {
   "cell_type": "markdown",
   "id": "d888e501",
   "metadata": {},
   "source": [
    "Most of the entries are objects. We need to convert them in numbers."
   ]
  },
  {
   "cell_type": "code",
   "execution_count": 4,
   "id": "5209aab0",
   "metadata": {},
   "outputs": [],
   "source": [
    "df1 = df.iloc[:,:9]\n",
    "df2 = df.iloc[:,9:]\n",
    "df2 = df2.fillna(0).astype(float)"
   ]
  },
  {
   "cell_type": "code",
   "execution_count": 5,
   "id": "a189b364",
   "metadata": {},
   "outputs": [],
   "source": [
    "df = pd.concat([df1,df2], axis=1)"
   ]
  },
  {
   "cell_type": "code",
   "execution_count": 6,
   "id": "684df5f3",
   "metadata": {},
   "outputs": [],
   "source": [
    "#save file\n",
    "df.to_csv('data/census_data2020.csv', index = False)"
   ]
  },
  {
   "cell_type": "markdown",
   "id": "c6fca30d",
   "metadata": {},
   "source": [
    "# VAW Data\n",
    "\n",
    "VAW data of Mexico City is included in the crime victim dataset. This means that I have to identify which rows are significant to the project based on the description of the crime and the victim's gender."
   ]
  },
  {
   "cell_type": "code",
   "execution_count": 7,
   "id": "b21de189",
   "metadata": {},
   "outputs": [
    {
     "data": {
      "text/html": [
       "<div>\n",
       "<style scoped>\n",
       "    .dataframe tbody tr th:only-of-type {\n",
       "        vertical-align: middle;\n",
       "    }\n",
       "\n",
       "    .dataframe tbody tr th {\n",
       "        vertical-align: top;\n",
       "    }\n",
       "\n",
       "    .dataframe thead th {\n",
       "        text-align: right;\n",
       "    }\n",
       "</style>\n",
       "<table border=\"1\" class=\"dataframe\">\n",
       "  <thead>\n",
       "    <tr style=\"text-align: right;\">\n",
       "      <th></th>\n",
       "      <th>idCarpeta</th>\n",
       "      <th>Año_inicio</th>\n",
       "      <th>Mes_inicio</th>\n",
       "      <th>FechaInicio</th>\n",
       "      <th>Delito</th>\n",
       "      <th>Categoria</th>\n",
       "      <th>Sexo</th>\n",
       "      <th>Edad</th>\n",
       "      <th>TipoPersona</th>\n",
       "      <th>CalidadJuridica</th>\n",
       "      <th>...</th>\n",
       "      <th>Mes_hecho</th>\n",
       "      <th>FechaHecho</th>\n",
       "      <th>HoraHecho</th>\n",
       "      <th>HoraInicio</th>\n",
       "      <th>AlcaldiaHechos</th>\n",
       "      <th>ColoniaHechos</th>\n",
       "      <th>Calle_hechos</th>\n",
       "      <th>Calle_hechos2</th>\n",
       "      <th>latitud</th>\n",
       "      <th>longitud</th>\n",
       "    </tr>\n",
       "  </thead>\n",
       "  <tbody>\n",
       "    <tr>\n",
       "      <th>0</th>\n",
       "      <td>8324429.0</td>\n",
       "      <td>2019.0</td>\n",
       "      <td>Enero</td>\n",
       "      <td>04/01/2019</td>\n",
       "      <td>FRAUDE</td>\n",
       "      <td>DELITO DE BAJO IMPACTO</td>\n",
       "      <td>Masculino</td>\n",
       "      <td>62.0</td>\n",
       "      <td>FISICA</td>\n",
       "      <td>OFENDIDO</td>\n",
       "      <td>...</td>\n",
       "      <td>Agosto</td>\n",
       "      <td>29/08/2018</td>\n",
       "      <td>12:00:00</td>\n",
       "      <td>12:19:00</td>\n",
       "      <td>ALVARO OBREGON</td>\n",
       "      <td>GUADALUPE INN</td>\n",
       "      <td>INSUGENTES SUR</td>\n",
       "      <td>NaN</td>\n",
       "      <td>19.36125</td>\n",
       "      <td>-99.18314</td>\n",
       "    </tr>\n",
       "    <tr>\n",
       "      <th>1</th>\n",
       "      <td>8324430.0</td>\n",
       "      <td>2019.0</td>\n",
       "      <td>Enero</td>\n",
       "      <td>04/01/2019</td>\n",
       "      <td>PRODUCCIÓN, IMPRESIÓN, ENAJENACIÓN, DISTRIBUCI...</td>\n",
       "      <td>DELITO DE BAJO IMPACTO</td>\n",
       "      <td>Femenino</td>\n",
       "      <td>38.0</td>\n",
       "      <td>FISICA</td>\n",
       "      <td>VICTIMA Y DENUNCIANTE</td>\n",
       "      <td>...</td>\n",
       "      <td>Diciembre</td>\n",
       "      <td>15/12/2018</td>\n",
       "      <td>15:00:00</td>\n",
       "      <td>12:20:00</td>\n",
       "      <td>AZCAPOTZALCO</td>\n",
       "      <td>VICTORIA DE LAS DEMOCRACIAS</td>\n",
       "      <td>AV.  CUATLAHUAC</td>\n",
       "      <td>NaN</td>\n",
       "      <td>19.47181</td>\n",
       "      <td>-99.16458</td>\n",
       "    </tr>\n",
       "    <tr>\n",
       "      <th>2</th>\n",
       "      <td>8324431.0</td>\n",
       "      <td>2019.0</td>\n",
       "      <td>Enero</td>\n",
       "      <td>04/01/2019</td>\n",
       "      <td>ROBO A TRANSEUNTE SALIENDO DEL BANCO CON VIOLE...</td>\n",
       "      <td>ROBO A CUENTAHABIENTE SALIENDO DEL CAJERO CON ...</td>\n",
       "      <td>Masculino</td>\n",
       "      <td>42.0</td>\n",
       "      <td>FISICA</td>\n",
       "      <td>VICTIMA Y DENUNCIANTE</td>\n",
       "      <td>...</td>\n",
       "      <td>Diciembre</td>\n",
       "      <td>22/12/2018</td>\n",
       "      <td>15:30:00</td>\n",
       "      <td>12:23:00</td>\n",
       "      <td>COYOACAN</td>\n",
       "      <td>COPILCO UNIVERSIDAD ISSSTE</td>\n",
       "      <td>COPILCO</td>\n",
       "      <td>NaN</td>\n",
       "      <td>19.33797</td>\n",
       "      <td>-99.18611</td>\n",
       "    </tr>\n",
       "    <tr>\n",
       "      <th>3</th>\n",
       "      <td>8324435.0</td>\n",
       "      <td>2019.0</td>\n",
       "      <td>Enero</td>\n",
       "      <td>04/01/2019</td>\n",
       "      <td>ROBO DE VEHICULO DE SERVICIO PARTICULAR SIN VI...</td>\n",
       "      <td>ROBO DE VEHÍCULO CON Y SIN VIOLENCIA</td>\n",
       "      <td>Masculino</td>\n",
       "      <td>35.0</td>\n",
       "      <td>FISICA</td>\n",
       "      <td>VICTIMA Y DENUNCIANTE</td>\n",
       "      <td>...</td>\n",
       "      <td>Enero</td>\n",
       "      <td>04/01/2019</td>\n",
       "      <td>06:00:00</td>\n",
       "      <td>12:27:00</td>\n",
       "      <td>IZTACALCO</td>\n",
       "      <td>AGRÍCOLA PANTITLAN</td>\n",
       "      <td>CALLE 6</td>\n",
       "      <td>ENTRE PRIVADA DEL VALLE Y PRIVADA GONZALEZ</td>\n",
       "      <td>19.40327</td>\n",
       "      <td>-99.05983</td>\n",
       "    </tr>\n",
       "    <tr>\n",
       "      <th>4</th>\n",
       "      <td>8324438.0</td>\n",
       "      <td>2019.0</td>\n",
       "      <td>Enero</td>\n",
       "      <td>04/01/2019</td>\n",
       "      <td>ROBO DE MOTOCICLETA SIN VIOLENCIA</td>\n",
       "      <td>ROBO DE VEHÍCULO CON Y SIN VIOLENCIA</td>\n",
       "      <td>Masculino</td>\n",
       "      <td>NaN</td>\n",
       "      <td>FISICA</td>\n",
       "      <td>VICTIMA</td>\n",
       "      <td>...</td>\n",
       "      <td>Enero</td>\n",
       "      <td>03/01/2019</td>\n",
       "      <td>20:00:00</td>\n",
       "      <td>12:35:00</td>\n",
       "      <td>IZTAPALAPA</td>\n",
       "      <td>PROGRESISTA</td>\n",
       "      <td>UNIVERSIDAD</td>\n",
       "      <td>NaN</td>\n",
       "      <td>19.35480</td>\n",
       "      <td>-99.06324</td>\n",
       "    </tr>\n",
       "  </tbody>\n",
       "</table>\n",
       "<p>5 rows × 22 columns</p>\n",
       "</div>"
      ],
      "text/plain": [
       "   idCarpeta  Año_inicio Mes_inicio FechaInicio  \\\n",
       "0  8324429.0      2019.0      Enero  04/01/2019   \n",
       "1  8324430.0      2019.0      Enero  04/01/2019   \n",
       "2  8324431.0      2019.0      Enero  04/01/2019   \n",
       "3  8324435.0      2019.0      Enero  04/01/2019   \n",
       "4  8324438.0      2019.0      Enero  04/01/2019   \n",
       "\n",
       "                                              Delito  \\\n",
       "0                                             FRAUDE   \n",
       "1  PRODUCCIÓN, IMPRESIÓN, ENAJENACIÓN, DISTRIBUCI...   \n",
       "2  ROBO A TRANSEUNTE SALIENDO DEL BANCO CON VIOLE...   \n",
       "3  ROBO DE VEHICULO DE SERVICIO PARTICULAR SIN VI...   \n",
       "4                  ROBO DE MOTOCICLETA SIN VIOLENCIA   \n",
       "\n",
       "                                           Categoria       Sexo  Edad  \\\n",
       "0                             DELITO DE BAJO IMPACTO  Masculino  62.0   \n",
       "1                             DELITO DE BAJO IMPACTO   Femenino  38.0   \n",
       "2  ROBO A CUENTAHABIENTE SALIENDO DEL CAJERO CON ...  Masculino  42.0   \n",
       "3               ROBO DE VEHÍCULO CON Y SIN VIOLENCIA  Masculino  35.0   \n",
       "4               ROBO DE VEHÍCULO CON Y SIN VIOLENCIA  Masculino   NaN   \n",
       "\n",
       "  TipoPersona        CalidadJuridica  ...  Mes_hecho  FechaHecho HoraHecho  \\\n",
       "0      FISICA               OFENDIDO  ...     Agosto  29/08/2018  12:00:00   \n",
       "1      FISICA  VICTIMA Y DENUNCIANTE  ...  Diciembre  15/12/2018  15:00:00   \n",
       "2      FISICA  VICTIMA Y DENUNCIANTE  ...  Diciembre  22/12/2018  15:30:00   \n",
       "3      FISICA  VICTIMA Y DENUNCIANTE  ...      Enero  04/01/2019  06:00:00   \n",
       "4      FISICA                VICTIMA  ...      Enero  03/01/2019  20:00:00   \n",
       "\n",
       "  HoraInicio  AlcaldiaHechos                ColoniaHechos     Calle_hechos  \\\n",
       "0   12:19:00  ALVARO OBREGON                GUADALUPE INN   INSUGENTES SUR   \n",
       "1   12:20:00    AZCAPOTZALCO  VICTORIA DE LAS DEMOCRACIAS  AV.  CUATLAHUAC   \n",
       "2   12:23:00        COYOACAN   COPILCO UNIVERSIDAD ISSSTE          COPILCO   \n",
       "3   12:27:00       IZTACALCO           AGRÍCOLA PANTITLAN          CALLE 6   \n",
       "4   12:35:00      IZTAPALAPA                  PROGRESISTA      UNIVERSIDAD   \n",
       "\n",
       "                                Calle_hechos2   latitud  longitud  \n",
       "0                                         NaN  19.36125 -99.18314  \n",
       "1                                         NaN  19.47181 -99.16458  \n",
       "2                                         NaN  19.33797 -99.18611  \n",
       "3  ENTRE PRIVADA DEL VALLE Y PRIVADA GONZALEZ  19.40327 -99.05983  \n",
       "4                                         NaN  19.35480 -99.06324  \n",
       "\n",
       "[5 rows x 22 columns]"
      ]
     },
     "execution_count": 7,
     "metadata": {},
     "output_type": "execute_result"
    }
   ],
   "source": [
    "# Read data\n",
    "vaw = pd.read_csv('data/victimas_completa_marzo_2022.csv')\n",
    "vaw.head()"
   ]
  },
  {
   "cell_type": "markdown",
   "id": "35547061",
   "metadata": {},
   "source": [
    "Inspect with info() method to get better data insight.\n"
   ]
  },
  {
   "cell_type": "code",
   "execution_count": 8,
   "id": "e2400d86",
   "metadata": {},
   "outputs": [
    {
     "name": "stdout",
     "output_type": "stream",
     "text": [
      "<class 'pandas.core.frame.DataFrame'>\n",
      "RangeIndex: 780439 entries, 0 to 780438\n",
      "Data columns (total 22 columns):\n",
      " #   Column           Non-Null Count   Dtype  \n",
      "---  ------           --------------   -----  \n",
      " 0   idCarpeta        780439 non-null  float64\n",
      " 1   Año_inicio       780438 non-null  float64\n",
      " 2   Mes_inicio       780438 non-null  object \n",
      " 3   FechaInicio      780438 non-null  object \n",
      " 4   Delito           780439 non-null  object \n",
      " 5   Categoria        780439 non-null  object \n",
      " 6   Sexo             628287 non-null  object \n",
      " 7   Edad             495406 non-null  float64\n",
      " 8   TipoPersona      774405 non-null  object \n",
      " 9   CalidadJuridica  780438 non-null  object \n",
      " 10  competencia      780439 non-null  object \n",
      " 11  Año_hecho        780120 non-null  float64\n",
      " 12  Mes_hecho        780120 non-null  object \n",
      " 13  FechaHecho       780120 non-null  object \n",
      " 14  HoraHecho        780130 non-null  object \n",
      " 15  HoraInicio       780438 non-null  object \n",
      " 16  AlcaldiaHechos   779234 non-null  object \n",
      " 17  ColoniaHechos    745330 non-null  object \n",
      " 18  Calle_hechos     778237 non-null  object \n",
      " 19  Calle_hechos2    280532 non-null  object \n",
      " 20  latitud          745544 non-null  float64\n",
      " 21  longitud         745542 non-null  float64\n",
      "dtypes: float64(6), object(16)\n",
      "memory usage: 131.0+ MB\n"
     ]
    }
   ],
   "source": [
    "vaw.info()"
   ]
  },
  {
   "cell_type": "markdown",
   "id": "13760596",
   "metadata": {},
   "source": [
    "There are 679 500 observations, which are quite a lot! Notice that the non-null values of latitude and longitude are less than the total entries. Therefore, drop all rows that have a NaN value in these columns and run a preliminary sub-selection by keeping female victims and latest year available.\n",
    "\n",
    "From the data structure, I know that \"Ano_inicio\" field corresponds to the opening date of the investigation, while \"Ano_hecho\" represents the date on which the crime was committed. Then, go for the second."
   ]
  },
  {
   "cell_type": "code",
   "execution_count": 9,
   "id": "5ab58641",
   "metadata": {},
   "outputs": [
    {
     "name": "stdout",
     "output_type": "stream",
     "text": [
      "Last year available:  2022.0\n"
     ]
    }
   ],
   "source": [
    "# drop Nan values\n",
    "vaw = vaw.dropna(subset=['latitud', 'longitud'])\n",
    "\n",
    "# sort unique years in the data\n",
    "year = sorted(vaw['Año_hecho'].unique())\n",
    "print(\"Last year available: \", year[-1])"
   ]
  },
  {
   "cell_type": "markdown",
   "id": "918b2825",
   "metadata": {},
   "source": [
    "Filter data accordingly"
   ]
  },
  {
   "cell_type": "code",
   "execution_count": 10,
   "id": "754a3d84",
   "metadata": {},
   "outputs": [],
   "source": [
    "vaw = vaw[vaw['Año_hecho']== 2021]\n",
    "vaw = vaw[vaw['Sexo']=='Femenino']"
   ]
  },
  {
   "cell_type": "markdown",
   "id": "4abbda2c",
   "metadata": {},
   "source": [
    "**Abortion in Mexico: a Crime?**\n",
    "\n",
    "Since 2021, abortion in Mexico is no longer a crime, although its legalisation still varies by state ([source](https://edition.cnn.com/2021/09/07/americas/mexico-criminalizing-abortion-unconstitutional-intl-latam/index.html)). \n",
    "\n",
    "Yet, in our data it still labeled as a crime:"
   ]
  },
  {
   "cell_type": "code",
   "execution_count": 11,
   "id": "7565274b",
   "metadata": {},
   "outputs": [
    {
     "data": {
      "text/html": [
       "<div>\n",
       "<style scoped>\n",
       "    .dataframe tbody tr th:only-of-type {\n",
       "        vertical-align: middle;\n",
       "    }\n",
       "\n",
       "    .dataframe tbody tr th {\n",
       "        vertical-align: top;\n",
       "    }\n",
       "\n",
       "    .dataframe thead th {\n",
       "        text-align: right;\n",
       "    }\n",
       "</style>\n",
       "<table border=\"1\" class=\"dataframe\">\n",
       "  <thead>\n",
       "    <tr style=\"text-align: right;\">\n",
       "      <th></th>\n",
       "      <th>idCarpeta</th>\n",
       "      <th>Año_inicio</th>\n",
       "      <th>Mes_inicio</th>\n",
       "      <th>FechaInicio</th>\n",
       "      <th>Delito</th>\n",
       "      <th>Categoria</th>\n",
       "      <th>Sexo</th>\n",
       "      <th>Edad</th>\n",
       "      <th>TipoPersona</th>\n",
       "      <th>CalidadJuridica</th>\n",
       "      <th>...</th>\n",
       "      <th>Mes_hecho</th>\n",
       "      <th>FechaHecho</th>\n",
       "      <th>HoraHecho</th>\n",
       "      <th>HoraInicio</th>\n",
       "      <th>AlcaldiaHechos</th>\n",
       "      <th>ColoniaHechos</th>\n",
       "      <th>Calle_hechos</th>\n",
       "      <th>Calle_hechos2</th>\n",
       "      <th>latitud</th>\n",
       "      <th>longitud</th>\n",
       "    </tr>\n",
       "  </thead>\n",
       "  <tbody>\n",
       "    <tr>\n",
       "      <th>704366</th>\n",
       "      <td>9075868.0</td>\n",
       "      <td>2021.0</td>\n",
       "      <td>Diciembre</td>\n",
       "      <td>06/12/2021</td>\n",
       "      <td>ABORTO</td>\n",
       "      <td>DELITO DE BAJO IMPACTO</td>\n",
       "      <td>Femenino</td>\n",
       "      <td>NaN</td>\n",
       "      <td>FISICA</td>\n",
       "      <td>VICTIMA Y DENUNCIANTE</td>\n",
       "      <td>...</td>\n",
       "      <td>Diciembre</td>\n",
       "      <td>06/12/2021</td>\n",
       "      <td>05:00:00</td>\n",
       "      <td>07:09:00</td>\n",
       "      <td>BENITO JUAREZ</td>\n",
       "      <td>GENERAL PEDRO MARIA ANAYA</td>\n",
       "      <td>BRUNO TRAVEN ESQUINA CON AVENIDA MEXICO COYOACAN</td>\n",
       "      <td>NaN</td>\n",
       "      <td>19.359707</td>\n",
       "      <td>-99.161931</td>\n",
       "    </tr>\n",
       "  </tbody>\n",
       "</table>\n",
       "<p>1 rows × 22 columns</p>\n",
       "</div>"
      ],
      "text/plain": [
       "        idCarpeta  Año_inicio Mes_inicio FechaInicio  Delito  \\\n",
       "704366  9075868.0      2021.0  Diciembre  06/12/2021  ABORTO   \n",
       "\n",
       "                     Categoria      Sexo  Edad TipoPersona  \\\n",
       "704366  DELITO DE BAJO IMPACTO  Femenino   NaN      FISICA   \n",
       "\n",
       "              CalidadJuridica  ...  Mes_hecho  FechaHecho HoraHecho  \\\n",
       "704366  VICTIMA Y DENUNCIANTE  ...  Diciembre  06/12/2021  05:00:00   \n",
       "\n",
       "       HoraInicio AlcaldiaHechos              ColoniaHechos  \\\n",
       "704366   07:09:00  BENITO JUAREZ  GENERAL PEDRO MARIA ANAYA   \n",
       "\n",
       "                                            Calle_hechos Calle_hechos2  \\\n",
       "704366  BRUNO TRAVEN ESQUINA CON AVENIDA MEXICO COYOACAN           NaN   \n",
       "\n",
       "          latitud   longitud  \n",
       "704366  19.359707 -99.161931  \n",
       "\n",
       "[1 rows x 22 columns]"
      ]
     },
     "execution_count": 11,
     "metadata": {},
     "output_type": "execute_result"
    }
   ],
   "source": [
    "vaw[vaw['Delito']== 'ABORTO'].sample(1)"
   ]
  },
  {
   "cell_type": "markdown",
   "id": "99c8b510",
   "metadata": {},
   "source": [
    "Considering abortion as a crime is beyond the scope of this project, but you too may find this interesting. \n",
    "\n",
    "**Back to Data Preparation**\n",
    "\n",
    "Select vaw crimes that match with the strings \"sexual, domestic, femicide\" and then print the results."
   ]
  },
  {
   "cell_type": "code",
   "execution_count": 12,
   "id": "99fa98d7",
   "metadata": {},
   "outputs": [
    {
     "name": "stdout",
     "output_type": "stream",
     "text": [
      "List of crimes after text query:\n",
      " ['VIOLENCIA FAMILIAR' 'ABUSO SEXUAL' 'ACOSO SEXUAL'\n",
      " 'CONTRA LA INTIMIDAD SEXUAL' 'ACOSO SEXUAL AGRAVADO EN CONTRA DE MENORES'\n",
      " 'FEMINICIDIO' 'FEMINICIDIO POR ARMA BLANCA' 'TENTATIVA DE FEMINICIDIO'\n",
      " 'FEMINICIDIO POR DISPARO DE ARMA DE FUEGO'\n",
      " 'PRIVACION DE LA LIBERTAD PERSONAL (REALIZAR ACTO SEXUAL)'\n",
      " 'FEMINICIDIO POR GOLPES']\n"
     ]
    }
   ],
   "source": [
    "vaw = vaw[vaw['Delito'].str.contains('sexual|familiar|feminicidio', case=False)]\n",
    "\n",
    "print('List of crimes after text query:\\n', vaw['Delito'].unique())"
   ]
  },
  {
   "cell_type": "markdown",
   "id": "2e629f63",
   "metadata": {},
   "source": [
    "Using str.contains() as filter method in data preparation is highly not recommended because the chance of missing important information is real. For example, strings can have special characters. In this case, I didn't find any viable alternative.\n",
    "\n",
    "Let's now begin to translate the DataFrame from Spanish to English starting from the columns names:"
   ]
  },
  {
   "cell_type": "code",
   "execution_count": 13,
   "id": "4a651073",
   "metadata": {},
   "outputs": [],
   "source": [
    "# select columns and rename\n",
    "vaw = vaw[['FechaHecho', 'Delito', 'latitud', 'longitud']]\n",
    "vaw.columns = ['Time', 'Crime', 'latitude', 'longitude']"
   ]
  },
  {
   "cell_type": "code",
   "execution_count": 14,
   "id": "6185f91e",
   "metadata": {},
   "outputs": [
    {
     "data": {
      "text/html": [
       "<div>\n",
       "<style scoped>\n",
       "    .dataframe tbody tr th:only-of-type {\n",
       "        vertical-align: middle;\n",
       "    }\n",
       "\n",
       "    .dataframe tbody tr th {\n",
       "        vertical-align: top;\n",
       "    }\n",
       "\n",
       "    .dataframe thead th {\n",
       "        text-align: right;\n",
       "    }\n",
       "</style>\n",
       "<table border=\"1\" class=\"dataframe\">\n",
       "  <thead>\n",
       "    <tr style=\"text-align: right;\">\n",
       "      <th></th>\n",
       "      <th>Time</th>\n",
       "      <th>Crime</th>\n",
       "      <th>latitude</th>\n",
       "      <th>longitude</th>\n",
       "    </tr>\n",
       "  </thead>\n",
       "  <tbody>\n",
       "    <tr>\n",
       "      <th>480286</th>\n",
       "      <td>01/01/2021</td>\n",
       "      <td>VIOLENCIA FAMILIAR</td>\n",
       "      <td>19.198153</td>\n",
       "      <td>-99.026277</td>\n",
       "    </tr>\n",
       "    <tr>\n",
       "      <th>480289</th>\n",
       "      <td>01/01/2021</td>\n",
       "      <td>VIOLENCIA FAMILIAR</td>\n",
       "      <td>19.193027</td>\n",
       "      <td>-99.095006</td>\n",
       "    </tr>\n",
       "    <tr>\n",
       "      <th>480302</th>\n",
       "      <td>01/01/2021</td>\n",
       "      <td>VIOLENCIA FAMILIAR</td>\n",
       "      <td>19.336963</td>\n",
       "      <td>-99.152265</td>\n",
       "    </tr>\n",
       "    <tr>\n",
       "      <th>480306</th>\n",
       "      <td>01/01/2021</td>\n",
       "      <td>VIOLENCIA FAMILIAR</td>\n",
       "      <td>19.561525</td>\n",
       "      <td>-99.146590</td>\n",
       "    </tr>\n",
       "    <tr>\n",
       "      <th>480320</th>\n",
       "      <td>01/01/2021</td>\n",
       "      <td>VIOLENCIA FAMILIAR</td>\n",
       "      <td>19.395045</td>\n",
       "      <td>-99.061060</td>\n",
       "    </tr>\n",
       "    <tr>\n",
       "      <th>...</th>\n",
       "      <td>...</td>\n",
       "      <td>...</td>\n",
       "      <td>...</td>\n",
       "      <td>...</td>\n",
       "    </tr>\n",
       "    <tr>\n",
       "      <th>779813</th>\n",
       "      <td>08/12/2021</td>\n",
       "      <td>ABUSO SEXUAL</td>\n",
       "      <td>19.282468</td>\n",
       "      <td>-99.010266</td>\n",
       "    </tr>\n",
       "    <tr>\n",
       "      <th>780165</th>\n",
       "      <td>31/03/2021</td>\n",
       "      <td>VIOLENCIA FAMILIAR</td>\n",
       "      <td>19.371821</td>\n",
       "      <td>-99.071966</td>\n",
       "    </tr>\n",
       "    <tr>\n",
       "      <th>780166</th>\n",
       "      <td>01/12/2021</td>\n",
       "      <td>VIOLENCIA FAMILIAR</td>\n",
       "      <td>19.259511</td>\n",
       "      <td>-99.101052</td>\n",
       "    </tr>\n",
       "    <tr>\n",
       "      <th>780286</th>\n",
       "      <td>19/07/2021</td>\n",
       "      <td>ABUSO SEXUAL</td>\n",
       "      <td>19.352580</td>\n",
       "      <td>-99.019935</td>\n",
       "    </tr>\n",
       "    <tr>\n",
       "      <th>780320</th>\n",
       "      <td>12/12/2021</td>\n",
       "      <td>ABUSO SEXUAL</td>\n",
       "      <td>19.325796</td>\n",
       "      <td>-99.069686</td>\n",
       "    </tr>\n",
       "  </tbody>\n",
       "</table>\n",
       "<p>31613 rows × 4 columns</p>\n",
       "</div>"
      ],
      "text/plain": [
       "              Time               Crime   latitude  longitude\n",
       "480286  01/01/2021  VIOLENCIA FAMILIAR  19.198153 -99.026277\n",
       "480289  01/01/2021  VIOLENCIA FAMILIAR  19.193027 -99.095006\n",
       "480302  01/01/2021  VIOLENCIA FAMILIAR  19.336963 -99.152265\n",
       "480306  01/01/2021  VIOLENCIA FAMILIAR  19.561525 -99.146590\n",
       "480320  01/01/2021  VIOLENCIA FAMILIAR  19.395045 -99.061060\n",
       "...            ...                 ...        ...        ...\n",
       "779813  08/12/2021        ABUSO SEXUAL  19.282468 -99.010266\n",
       "780165  31/03/2021  VIOLENCIA FAMILIAR  19.371821 -99.071966\n",
       "780166  01/12/2021  VIOLENCIA FAMILIAR  19.259511 -99.101052\n",
       "780286  19/07/2021        ABUSO SEXUAL  19.352580 -99.019935\n",
       "780320  12/12/2021        ABUSO SEXUAL  19.325796 -99.069686\n",
       "\n",
       "[31613 rows x 4 columns]"
      ]
     },
     "execution_count": 14,
     "metadata": {},
     "output_type": "execute_result"
    }
   ],
   "source": [
    "vaw"
   ]
  },
  {
   "cell_type": "markdown",
   "id": "1f9bb941",
   "metadata": {},
   "source": [
    "and continuing with the body. List all the values for 'Crime':"
   ]
  },
  {
   "cell_type": "code",
   "execution_count": 15,
   "id": "c4bed73a",
   "metadata": {},
   "outputs": [
    {
     "data": {
      "text/plain": [
       "array(['VIOLENCIA FAMILIAR', 'ABUSO SEXUAL', 'ACOSO SEXUAL',\n",
       "       'CONTRA LA INTIMIDAD SEXUAL',\n",
       "       'ACOSO SEXUAL AGRAVADO EN CONTRA DE MENORES', 'FEMINICIDIO',\n",
       "       'FEMINICIDIO POR ARMA BLANCA', 'TENTATIVA DE FEMINICIDIO',\n",
       "       'FEMINICIDIO POR DISPARO DE ARMA DE FUEGO',\n",
       "       'PRIVACION DE LA LIBERTAD PERSONAL (REALIZAR ACTO SEXUAL)',\n",
       "       'FEMINICIDIO POR GOLPES'], dtype=object)"
      ]
     },
     "execution_count": 15,
     "metadata": {},
     "output_type": "execute_result"
    }
   ],
   "source": [
    "vaw['Crime'].unique()"
   ]
  },
  {
   "cell_type": "markdown",
   "id": "e87c9e40",
   "metadata": {},
   "source": [
    "Several types of 'FEMICIDE' are in. I use a simple regular expression to join them and replace them with the English word."
   ]
  },
  {
   "cell_type": "code",
   "execution_count": 16,
   "id": "ea7aeb9a",
   "metadata": {},
   "outputs": [],
   "source": [
    "vaw['Crime'] = vaw['Crime'].str.replace(r'.*FEMINICIDIO.*', r'FEMICIDE', regex = True)"
   ]
  },
  {
   "cell_type": "markdown",
   "id": "c7cc7074",
   "metadata": {},
   "source": [
    "Conclude the translation for the other crime types."
   ]
  },
  {
   "cell_type": "code",
   "execution_count": 17,
   "id": "070f50ea",
   "metadata": {},
   "outputs": [],
   "source": [
    "from_text = ['VIOLENCIA FAMILIAR', 'ABUSO SEXUAL', 'ACOSO SEXUAL',\n",
    "             'CONTRA LA INTIMIDAD SEXUAL', 'ACOSO SEXUAL AGRAVADO EN CONTRA DE MENORES',\n",
    "             'FEMICIDE', 'PRIVACION DE LA LIBERTAD PERSONAL (REALIZAR ACTO SEXUAL)']\n",
    "\n",
    "replace_with = ['DOMESTIC VIOLENCE', 'SEXUAL ABUSE', 'SEXUAL HARASSMENT',\n",
    "        'AGAINST SEXUAL INTIMACY', 'AGGRAVATED SEXUAL HARASSMENT AGAINST MINORS', 'FEMICIDE',\n",
    "        'DEPRIVATION OF PERSONAL LIBERTY (PERFORMING A SEXUAL ACT)']\n",
    "\n",
    "vaw = vaw.replace(dict(zip(from_text, replace_with)))"
   ]
  },
  {
   "cell_type": "code",
   "execution_count": 18,
   "id": "f05238e9",
   "metadata": {},
   "outputs": [
    {
     "data": {
      "text/html": [
       "<div>\n",
       "<style scoped>\n",
       "    .dataframe tbody tr th:only-of-type {\n",
       "        vertical-align: middle;\n",
       "    }\n",
       "\n",
       "    .dataframe tbody tr th {\n",
       "        vertical-align: top;\n",
       "    }\n",
       "\n",
       "    .dataframe thead th {\n",
       "        text-align: right;\n",
       "    }\n",
       "</style>\n",
       "<table border=\"1\" class=\"dataframe\">\n",
       "  <thead>\n",
       "    <tr style=\"text-align: right;\">\n",
       "      <th></th>\n",
       "      <th>Time</th>\n",
       "      <th>Crime</th>\n",
       "      <th>latitude</th>\n",
       "      <th>longitude</th>\n",
       "    </tr>\n",
       "  </thead>\n",
       "  <tbody>\n",
       "    <tr>\n",
       "      <th>480286</th>\n",
       "      <td>01/01/2021</td>\n",
       "      <td>DOMESTIC VIOLENCE</td>\n",
       "      <td>19.198153</td>\n",
       "      <td>-99.026277</td>\n",
       "    </tr>\n",
       "    <tr>\n",
       "      <th>480289</th>\n",
       "      <td>01/01/2021</td>\n",
       "      <td>DOMESTIC VIOLENCE</td>\n",
       "      <td>19.193027</td>\n",
       "      <td>-99.095006</td>\n",
       "    </tr>\n",
       "    <tr>\n",
       "      <th>480302</th>\n",
       "      <td>01/01/2021</td>\n",
       "      <td>DOMESTIC VIOLENCE</td>\n",
       "      <td>19.336963</td>\n",
       "      <td>-99.152265</td>\n",
       "    </tr>\n",
       "    <tr>\n",
       "      <th>480306</th>\n",
       "      <td>01/01/2021</td>\n",
       "      <td>DOMESTIC VIOLENCE</td>\n",
       "      <td>19.561525</td>\n",
       "      <td>-99.146590</td>\n",
       "    </tr>\n",
       "    <tr>\n",
       "      <th>480320</th>\n",
       "      <td>01/01/2021</td>\n",
       "      <td>DOMESTIC VIOLENCE</td>\n",
       "      <td>19.395045</td>\n",
       "      <td>-99.061060</td>\n",
       "    </tr>\n",
       "  </tbody>\n",
       "</table>\n",
       "</div>"
      ],
      "text/plain": [
       "              Time              Crime   latitude  longitude\n",
       "480286  01/01/2021  DOMESTIC VIOLENCE  19.198153 -99.026277\n",
       "480289  01/01/2021  DOMESTIC VIOLENCE  19.193027 -99.095006\n",
       "480302  01/01/2021  DOMESTIC VIOLENCE  19.336963 -99.152265\n",
       "480306  01/01/2021  DOMESTIC VIOLENCE  19.561525 -99.146590\n",
       "480320  01/01/2021  DOMESTIC VIOLENCE  19.395045 -99.061060"
      ]
     },
     "execution_count": 18,
     "metadata": {},
     "output_type": "execute_result"
    }
   ],
   "source": [
    "vaw.head()"
   ]
  },
  {
   "cell_type": "code",
   "execution_count": 19,
   "id": "d9401a35",
   "metadata": {},
   "outputs": [],
   "source": [
    "#save file\n",
    "vaw.to_csv('data/vaw_filtered.csv', index = False)"
   ]
  },
  {
   "cell_type": "markdown",
   "id": "dec3bfc0",
   "metadata": {},
   "source": [
    "# Neighbourhood\n",
    "\n",
    "Add to neighbourhood variables the total population per unit by merging with 'Population per Neighbourhood'.\n",
    "\n",
    "* Date source:\n",
    "\n",
    "  [CDMX neighborhoods - Mexico City Open Data Portal](https://datos.cdmx.gob.mx/dataset/alcaldias/resource/8648431b-4f34-4f1a-a4b1-19142f944300)\n",
    "\n",
    "* Data Structure:\n",
    "\n",
    "  Structure of the data is described in a separate excel file [download here](https://datos.cdmx.gob.mx/dataset/alcaldias/resource/e4a9b05f-c480-45fb-a62c-6d4e39c5180e)"
   ]
  },
  {
   "cell_type": "code",
   "execution_count": 20,
   "id": "c7c4454e",
   "metadata": {},
   "outputs": [],
   "source": [
    "import geopandas as gpd"
   ]
  },
  {
   "cell_type": "code",
   "execution_count": 21,
   "id": "79e16c06",
   "metadata": {},
   "outputs": [],
   "source": [
    "# Read the data\n",
    "gdf = gpd.read_file('data/alcaldías_cdmx/alcaldias_cdmx.shp')\n",
    "gdf = gdf.rename(columns = {'nomgeo':'NOMGEO'})\n",
    "#gdf.head(5)"
   ]
  },
  {
   "cell_type": "markdown",
   "id": "2d63e615",
   "metadata": {},
   "source": [
    "**Population per Neighbourhood**\n",
    "\n",
    "* Date source:\n",
    "\n",
    "  [CDMX Population per Neighbourhood - Mexico City Open Data Portal](https://datos.cdmx.gob.mx/dataset/poblacion-total-y-tasa-de-crecimiento-media-anual-1990-2020-por-alcaldia)\n",
    "\n",
    "\n",
    "* Data Structure:\n",
    "\n",
    "  Structure of the data is described in a separate excel file [download here](https://datos.cdmx.gob.mx/dataset/poblacion-total-y-tasa-de-crecimiento-media-anual-1990-2020-por-alcaldia/resource/ffa231fc-e0d2-4583-8a99-fd421fc9b442)"
   ]
  },
  {
   "cell_type": "code",
   "execution_count": 22,
   "id": "3ed6d13c",
   "metadata": {},
   "outputs": [],
   "source": [
    "df = pd.read_csv('data/poblacion_total_tasa_crecimiento_1.1.csv')\n",
    "df = df[df['Año'] == 2020]\n",
    "df = df.reset_index(drop=True)\n",
    "#df"
   ]
  },
  {
   "cell_type": "code",
   "execution_count": 23,
   "id": "52ccfb12",
   "metadata": {},
   "outputs": [],
   "source": [
    "# drop the last summary row\n",
    "df = df.drop([16])\n",
    "df = df.rename(columns = {'Alcaldia':'NOMGEO', 'Población total': 'POBTOT' })\n",
    "df = df.apply(lambda x: x.astype(str).str.upper())"
   ]
  },
  {
   "cell_type": "code",
   "execution_count": 24,
   "id": "ce1ed92f",
   "metadata": {},
   "outputs": [],
   "source": [
    "merge = gdf.merge(df, on='NOMGEO')\n",
    "merge = merge.rename(columns = {'cvegeo':'CVEGEO'})\n",
    "merge['POBTOT'] = merge['POBTOT'].str.replace(',', '').astype(int)"
   ]
  },
  {
   "cell_type": "code",
   "execution_count": 25,
   "id": "5f7d9644",
   "metadata": {},
   "outputs": [],
   "source": [
    "gdf = merge[['CVEGEO', 'NOMGEO', 'POBTOT', 'geometry']]"
   ]
  },
  {
   "cell_type": "code",
   "execution_count": 26,
   "id": "46dd2d0a",
   "metadata": {},
   "outputs": [],
   "source": [
    "# Write to GeoJSON\n",
    "\n",
    "gdf.to_file(\"data/CDMX_municipalities.gjson\", driver=\"GeoJSON\")"
   ]
  }
 ],
 "metadata": {
  "interpreter": {
   "hash": "65ef8e91437c43f85e2de8c2536c6c4a25e3ef2720ebea477cf8dd48e6d6e869"
  },
  "kernelspec": {
   "display_name": "Python 3 (ipykernel)",
   "language": "python",
   "name": "python3"
  },
  "language_info": {
   "codemirror_mode": {
    "name": "ipython",
    "version": 3
   },
   "file_extension": ".py",
   "mimetype": "text/x-python",
   "name": "python",
   "nbconvert_exporter": "python",
   "pygments_lexer": "ipython3",
   "version": "3.9.5"
  },
  "toc": {
   "base_numbering": 1,
   "nav_menu": {},
   "number_sections": true,
   "sideBar": true,
   "skip_h1_title": false,
   "title_cell": "Table of Contents",
   "title_sidebar": "Contents",
   "toc_cell": false,
   "toc_position": {},
   "toc_section_display": true,
   "toc_window_display": false
  }
 },
 "nbformat": 4,
 "nbformat_minor": 5
}
